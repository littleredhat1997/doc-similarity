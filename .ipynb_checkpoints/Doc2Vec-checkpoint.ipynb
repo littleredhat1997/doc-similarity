{
 "cells": [
  {
   "cell_type": "markdown",
   "metadata": {},
   "source": [
    "### 数据预处理"
   ]
  },
  {
   "cell_type": "code",
   "execution_count": 1,
   "metadata": {},
   "outputs": [
    {
     "data": {
      "text/plain": [
       "767"
      ]
     },
     "execution_count": 1,
     "metadata": {},
     "output_type": "execute_result"
    }
   ],
   "source": [
    "stop_path = 'data/stopwords.txt'\n",
    "stopwords = open(stop_path).readlines()\n",
    "stopwords = [word.strip() for word in stopwords]\n",
    "len(stopwords)"
   ]
  },
  {
   "cell_type": "code",
   "execution_count": 2,
   "metadata": {},
   "outputs": [],
   "source": [
    "data_path = 'data/射雕英雄传.txt'\n",
    "docs = open(data_path).readlines()\n",
    "docs = [doc.strip() for doc in docs if doc.strip() != '']"
   ]
  },
  {
   "cell_type": "code",
   "execution_count": 3,
   "metadata": {},
   "outputs": [
    {
     "name": "stdout",
     "output_type": "stream",
     "text": [
      "8611 892286\n",
      "507 郭靖点头道：“对，幸亏大哥聪明，料到了这着，倘若是我，定是上了他们的大当。”周伯通摇头道：“说到聪明伶俐，天下又有谁及得上黄老邪的？只不知他用甚么法子，居然找到了一个跟他一般聪明的老婆。那时候黄家嫂子微微一笑，道：‘周大哥，你号称老顽童，人可不胡涂啊，你怕我刘备借荆州是不是？我就在这里坐着瞧瞧，看完了马上还你，也不用到天黑，你不放心，在旁边守着我就是。’“我听她这么说，就从怀里取出经书，递了给她。黄家嫂子接了，走到一株树下，坐在石上翻了起来。黄老邪见我神色之间总是有点提心吊胆，说道：‘老顽童，当世之间，有几个人的武功胜得过你我两人？’我道：‘胜得过你的未必有。胜过我的，连你在内，总有四五人罢！’黄老邪笑道：‘那你太捧我啦，东邪、西毒、南帝、北丐四个人，武功各有所长，谁也胜不了谁。欧阳锋既给你师哥破去了“蛤蟆功”’，那么十年之内，他是比兄弟要逊一筹的了。还有个铁掌水上飘裘千仞，听说武功也很了得，那次华山论剑他却没来，但他功夫再好，也未必真能出神入化。老顽童，你的武功兄弟决计不敢小看了，除了这几个人，武林中数到你是第一。咱俩联起手来，并世无人能敌。’我道：‘那自然！’黄老邪道：‘所以啊，你何必心神不定？\n"
     ]
    }
   ],
   "source": [
    "# 总行数\n",
    "print(len(docs), sum([len(doc) for doc in docs]))\n",
    "# 总字数\n",
    "print(len(max(docs, key=len)), max(docs, key=len))"
   ]
  },
  {
   "cell_type": "code",
   "execution_count": 4,
   "metadata": {},
   "outputs": [
    {
     "name": "stderr",
     "output_type": "stream",
     "text": [
      "Building prefix dict from the default dictionary ...\n",
      "Loading model from cache /tmp/jieba.cache\n",
      "Loading model cost 0.810 seconds.\n",
      "Prefix dict has been built succesfully.\n"
     ]
    }
   ],
   "source": [
    "import jieba\n",
    "\n",
    "all_docs = []\n",
    "for doc in docs:\n",
    "    result = []\n",
    "    words = jieba.cut(doc)\n",
    "    for word in words:\n",
    "        if word != '' and word not in stopwords:\n",
    "            result.append(word)\n",
    "    all_docs.append(result)"
   ]
  },
  {
   "cell_type": "markdown",
   "metadata": {},
   "source": [
    "## Doc2Vec  DM / DBOW"
   ]
  },
  {
   "cell_type": "code",
   "execution_count": 5,
   "metadata": {},
   "outputs": [],
   "source": [
    "import logging\n",
    "from gensim.models.doc2vec import Doc2Vec, TaggedDocument\n",
    "\n",
    "logging.basicConfig(format = '%(asctime)s : %(levelname)s : %(message)s', level = logging.INFO)"
   ]
  },
  {
   "cell_type": "code",
   "execution_count": 6,
   "metadata": {},
   "outputs": [],
   "source": [
    "all_docs = []\n",
    "for idx, text in enumerate(docs):  \n",
    "    doc = TaggedDocument(text, tags=[idx])\n",
    "    all_docs.append(doc)"
   ]
  },
  {
   "cell_type": "code",
   "execution_count": 7,
   "metadata": {},
   "outputs": [],
   "source": [
    "##### 测试数据 #####\n",
    "\n",
    "test = '射雕英雄传中谁的武功天下第一'\n",
    "\n",
    "# 结巴 搜索引擎模式\n",
    "test_list = [word for word in jieba.cut_for_search(test) if word not in stopwords]"
   ]
  },
  {
   "cell_type": "markdown",
   "metadata": {},
   "source": [
    "### DM"
   ]
  },
  {
   "cell_type": "code",
   "execution_count": 8,
   "metadata": {},
   "outputs": [
    {
     "name": "stderr",
     "output_type": "stream",
     "text": [
      "2018-03-30 21:04:04,602 : INFO : collecting all words and their counts\n",
      "2018-03-30 21:04:04,603 : WARNING : Each 'words' should be a list of words (usually unicode strings). First 'words' here is instead plain <class 'str'>.\n",
      "2018-03-30 21:04:04,604 : INFO : PROGRESS: at example #0, processed 0 words (0/s), 0 word types, 0 tags\n",
      "2018-03-30 21:04:04,820 : INFO : collected 4056 word types and 8611 unique tags from a corpus of 8611 examples and 892286 words\n",
      "2018-03-30 21:04:04,821 : INFO : Loading a fresh vocabulary\n",
      "2018-03-30 21:04:04,830 : INFO : min_count=2 retains 3554 unique words (87% of original 4056, drops 502)\n",
      "2018-03-30 21:04:04,831 : INFO : min_count=2 leaves 891784 word corpus (99% of original 892286, drops 502)\n",
      "2018-03-30 21:04:04,842 : INFO : deleting the raw counts dictionary of 4056 items\n",
      "2018-03-30 21:04:04,843 : INFO : sample=0.001 downsamples 63 most-common words\n",
      "2018-03-30 21:04:04,844 : INFO : downsampling leaves estimated 679542 word corpus (76.2% of prior 891784)\n",
      "2018-03-30 21:04:04,852 : INFO : estimated required memory for 3554 words and 200 dimensions: 14352200 bytes\n",
      "2018-03-30 21:04:04,853 : INFO : resetting layer weights\n",
      "2018-03-30 21:04:05,051 : INFO : training model with 4 workers on 3554 vocabulary and 200 features, using sg=0 hs=0 sample=0.001 negative=5 window=5\n",
      "2018-03-30 21:04:06,036 : INFO : worker thread finished; awaiting finish of 3 more threads\n",
      "2018-03-30 21:04:06,045 : INFO : worker thread finished; awaiting finish of 2 more threads\n",
      "2018-03-30 21:04:06,050 : INFO : worker thread finished; awaiting finish of 1 more threads\n",
      "2018-03-30 21:04:06,058 : INFO : worker thread finished; awaiting finish of 0 more threads\n",
      "2018-03-30 21:04:06,058 : INFO : EPOCH - 1 : training on 892286 raw words (688657 effective words) took 1.0s, 691345 effective words/s\n",
      "2018-03-30 21:04:07,069 : INFO : EPOCH 2 - PROGRESS: at 87.38% examples, 602179 words/s, in_qsize 7, out_qsize 0\n",
      "2018-03-30 21:04:07,164 : INFO : worker thread finished; awaiting finish of 3 more threads\n",
      "2018-03-30 21:04:07,171 : INFO : worker thread finished; awaiting finish of 2 more threads\n",
      "2018-03-30 21:04:07,182 : INFO : worker thread finished; awaiting finish of 1 more threads\n",
      "2018-03-30 21:04:07,184 : INFO : worker thread finished; awaiting finish of 0 more threads\n",
      "2018-03-30 21:04:07,184 : INFO : EPOCH - 2 : training on 892286 raw words (688590 effective words) took 1.1s, 614646 effective words/s\n",
      "2018-03-30 21:04:08,162 : INFO : worker thread finished; awaiting finish of 3 more threads\n",
      "2018-03-30 21:04:08,189 : INFO : worker thread finished; awaiting finish of 2 more threads\n",
      "2018-03-30 21:04:08,190 : INFO : worker thread finished; awaiting finish of 1 more threads\n",
      "2018-03-30 21:04:08,196 : INFO : EPOCH 3 - PROGRESS: at 100.00% examples, 687522 words/s, in_qsize 0, out_qsize 1\n",
      "2018-03-30 21:04:08,197 : INFO : worker thread finished; awaiting finish of 0 more threads\n",
      "2018-03-30 21:04:08,198 : INFO : EPOCH - 3 : training on 892286 raw words (688198 effective words) took 1.0s, 686242 effective words/s\n",
      "2018-03-30 21:04:09,205 : INFO : EPOCH 4 - PROGRESS: at 92.17% examples, 633737 words/s, in_qsize 7, out_qsize 0\n",
      "2018-03-30 21:04:09,238 : INFO : worker thread finished; awaiting finish of 3 more threads\n",
      "2018-03-30 21:04:09,255 : INFO : worker thread finished; awaiting finish of 2 more threads\n",
      "2018-03-30 21:04:09,258 : INFO : worker thread finished; awaiting finish of 1 more threads\n",
      "2018-03-30 21:04:09,262 : INFO : worker thread finished; awaiting finish of 0 more threads\n",
      "2018-03-30 21:04:09,262 : INFO : EPOCH - 4 : training on 892286 raw words (687806 effective words) took 1.1s, 649100 effective words/s\n",
      "2018-03-30 21:04:10,160 : INFO : worker thread finished; awaiting finish of 3 more threads\n",
      "2018-03-30 21:04:10,170 : INFO : worker thread finished; awaiting finish of 2 more threads\n",
      "2018-03-30 21:04:10,182 : INFO : worker thread finished; awaiting finish of 1 more threads\n",
      "2018-03-30 21:04:10,187 : INFO : worker thread finished; awaiting finish of 0 more threads\n",
      "2018-03-30 21:04:10,187 : INFO : EPOCH - 5 : training on 892286 raw words (687498 effective words) took 0.9s, 747104 effective words/s\n",
      "2018-03-30 21:04:11,145 : INFO : worker thread finished; awaiting finish of 3 more threads\n",
      "2018-03-30 21:04:11,148 : INFO : worker thread finished; awaiting finish of 2 more threads\n",
      "2018-03-30 21:04:11,157 : INFO : worker thread finished; awaiting finish of 1 more threads\n",
      "2018-03-30 21:04:11,180 : INFO : worker thread finished; awaiting finish of 0 more threads\n",
      "2018-03-30 21:04:11,181 : INFO : EPOCH - 6 : training on 892286 raw words (687686 effective words) took 1.0s, 695125 effective words/s\n",
      "2018-03-30 21:04:12,198 : INFO : EPOCH 7 - PROGRESS: at 89.72% examples, 612626 words/s, in_qsize 7, out_qsize 0\n",
      "2018-03-30 21:04:12,256 : INFO : worker thread finished; awaiting finish of 3 more threads\n",
      "2018-03-30 21:04:12,266 : INFO : worker thread finished; awaiting finish of 2 more threads\n",
      "2018-03-30 21:04:12,282 : INFO : worker thread finished; awaiting finish of 1 more threads\n",
      "2018-03-30 21:04:12,287 : INFO : worker thread finished; awaiting finish of 0 more threads\n",
      "2018-03-30 21:04:12,288 : INFO : EPOCH - 7 : training on 892286 raw words (688060 effective words) took 1.1s, 624698 effective words/s\n",
      "2018-03-30 21:04:13,250 : INFO : worker thread finished; awaiting finish of 3 more threads\n",
      "2018-03-30 21:04:13,265 : INFO : worker thread finished; awaiting finish of 2 more threads\n",
      "2018-03-30 21:04:13,268 : INFO : worker thread finished; awaiting finish of 1 more threads\n",
      "2018-03-30 21:04:13,270 : INFO : worker thread finished; awaiting finish of 0 more threads\n",
      "2018-03-30 21:04:13,270 : INFO : EPOCH - 8 : training on 892286 raw words (687727 effective words) took 1.0s, 702997 effective words/s\n",
      "2018-03-30 21:04:14,169 : INFO : worker thread finished; awaiting finish of 3 more threads\n",
      "2018-03-30 21:04:14,194 : INFO : worker thread finished; awaiting finish of 2 more threads\n",
      "2018-03-30 21:04:14,196 : INFO : worker thread finished; awaiting finish of 1 more threads\n",
      "2018-03-30 21:04:14,198 : INFO : worker thread finished; awaiting finish of 0 more threads\n",
      "2018-03-30 21:04:14,199 : INFO : EPOCH - 9 : training on 892286 raw words (688088 effective words) took 0.9s, 744415 effective words/s\n",
      "2018-03-30 21:04:15,136 : INFO : worker thread finished; awaiting finish of 3 more threads\n",
      "2018-03-30 21:04:15,157 : INFO : worker thread finished; awaiting finish of 2 more threads\n",
      "2018-03-30 21:04:15,159 : INFO : worker thread finished; awaiting finish of 1 more threads\n",
      "2018-03-30 21:04:15,174 : INFO : worker thread finished; awaiting finish of 0 more threads\n",
      "2018-03-30 21:04:15,175 : INFO : EPOCH - 10 : training on 892286 raw words (688542 effective words) took 1.0s, 711292 effective words/s\n",
      "2018-03-30 21:04:15,176 : INFO : training on a 8922860 raw words (6880852 effective words) took 10.1s, 679789 effective words/s\n"
     ]
    }
   ],
   "source": [
    "model_dm = Doc2Vec(dm=1, vector_size=200, window=5, negative=5, hs=0, min_count=2, workers=4)\n",
    "model_dm.build_vocab(all_docs)\n",
    "model_dm.train(all_docs, total_examples=model_dm.corpus_count, epochs=10)"
   ]
  },
  {
   "cell_type": "code",
   "execution_count": 9,
   "metadata": {},
   "outputs": [],
   "source": [
    "# model_dm.save('data/model_dm') # 保存\n",
    "# model_dm = Doc2Vec.load('data/model_dm') # 加载"
   ]
  },
  {
   "cell_type": "code",
   "execution_count": 10,
   "metadata": {},
   "outputs": [
    {
     "data": {
      "text/plain": [
       "array([ 0.01719132,  0.12032455, -0.10930248, -0.03054323,  0.01598714,\n",
       "        0.05157886, -0.0522086 ,  0.01618505, -0.01700102,  0.00290831,\n",
       "       -0.01241415, -0.07876276,  0.02667127,  0.0162325 ,  0.02126738,\n",
       "       -0.04528922, -0.01871051,  0.00340863, -0.03869837,  0.066325  ,\n",
       "        0.07372887,  0.02524209,  0.0177192 ,  0.0311104 , -0.02843648,\n",
       "       -0.02221749, -0.01450889, -0.02978369, -0.00303957, -0.0293306 ,\n",
       "        0.01565846, -0.00379407,  0.05019908, -0.00452224,  0.00824503,\n",
       "       -0.00877793,  0.01516514,  0.00157198,  0.03424627,  0.05597311,\n",
       "        0.02621786, -0.08964296,  0.02067116, -0.00048729, -0.0413835 ,\n",
       "        0.03186005, -0.05886995,  0.00844574, -0.04044551,  0.0765115 ,\n",
       "       -0.03633742, -0.04349198,  0.01184994, -0.0672473 , -0.06174951,\n",
       "       -0.00973167, -0.00945964, -0.01354964, -0.02327078, -0.01767999,\n",
       "        0.06826409,  0.02023683,  0.03097561,  0.00664941,  0.02350275,\n",
       "        0.02236924, -0.06724471, -0.01793077, -0.03151868, -0.06696008,\n",
       "        0.0253309 , -0.07354622, -0.02474724, -0.0448167 ,  0.03452295,\n",
       "        0.01314002,  0.03635433, -0.02596945, -0.02177463, -0.06243435,\n",
       "        0.06076025, -0.01966446,  0.00380226, -0.00869262,  0.03661388,\n",
       "        0.0023397 , -0.02242117,  0.00167662, -0.01546574,  0.0227544 ,\n",
       "        0.03782022, -0.03785607, -0.00139928, -0.00163634,  0.01527071,\n",
       "       -0.03755595,  0.04024532, -0.02706497, -0.02965766,  0.0266617 ,\n",
       "       -0.02678829,  0.02736736,  0.0228388 ,  0.0393968 , -0.01842319,\n",
       "       -0.01770396,  0.00318057,  0.00793753,  0.0069851 ,  0.07225494,\n",
       "       -0.0126515 ,  0.06327926,  0.03308572, -0.05037507,  0.0195295 ,\n",
       "       -0.03980453, -0.00602724,  0.00408257,  0.03223708, -0.00319661,\n",
       "        0.01834081,  0.03360492,  0.00136515,  0.01647865,  0.00356141,\n",
       "        0.02702753,  0.04408325,  0.01145124,  0.04115401,  0.01519887,\n",
       "        0.00846283, -0.06163815, -0.04693699, -0.03286133,  0.0157545 ,\n",
       "        0.0248162 ,  0.03240478, -0.02482843,  0.03456585, -0.03555997,\n",
       "        0.0015714 ,  0.0623236 ,  0.03889979,  0.01061855,  0.01173386,\n",
       "       -0.01515758,  0.075686  , -0.03303124,  0.02786449,  0.00069993,\n",
       "       -0.06052598,  0.07262625, -0.06085908, -0.02392617,  0.03107409,\n",
       "        0.04300019,  0.0248604 ,  0.00055804,  0.03160324,  0.02342941,\n",
       "        0.01074502, -0.01769481, -0.01508917, -0.00654048, -0.05087536,\n",
       "        0.00187038, -0.02720394,  0.03407725,  0.07984115, -0.04381363,\n",
       "       -0.00513806,  0.0277338 , -0.00457388,  0.03344973,  0.01701112,\n",
       "        0.01658449,  0.04104425, -0.01122957, -0.05614749,  0.01497801,\n",
       "        0.02270938,  0.01527437,  0.10290967, -0.07045837, -0.03776598,\n",
       "       -0.01329622,  0.00058957, -0.06664274,  0.04113352, -0.023257  ,\n",
       "       -0.01943031, -0.05654128, -0.02603328,  0.04715334, -0.01352557,\n",
       "       -0.00736862, -0.00907848, -0.11403732, -0.03454843, -0.02826249],\n",
       "      dtype=float32)"
      ]
     },
     "execution_count": 10,
     "metadata": {},
     "output_type": "execute_result"
    }
   ],
   "source": [
    "inferred_dm = model_dm.infer_vector(test_list)\n",
    "inferred_dm"
   ]
  },
  {
   "cell_type": "code",
   "execution_count": 11,
   "metadata": {},
   "outputs": [
    {
     "name": "stderr",
     "output_type": "stream",
     "text": [
      "2018-03-30 21:04:15,197 : INFO : precomputing L2-norms of doc weight vectors\n"
     ]
    },
    {
     "name": "stdout",
     "output_type": "stream",
     "text": [
      "1158 0.8241669535636902 正自怔怔出神，突然听到华筝的声音在后叫道：”郭靖，快来，快来！”\n",
      "2608 0.8154236674308777 郭靖在赵王府中见过包惜弱的居所，听到这里，心下已是恍然。\n",
      "2441 0.8090466260910034 郭靖听得语声，心中大喜，叫道：“师父，快救弟子！”\n",
      "7378 0.8052639365196228 第三十五回　铁枪庙中(1)\n",
      "6354 0.8042024970054626 两人走入林中，郭靖将黄蓉背起，仍由她指点路径，一步步的向外走去。\n",
      "7493 0.8018851280212402 第三十五回　铁枪庙中(2)\n",
      "861 0.8009757399559021 柯镇恶道：”杨康？”沉吟半晌，摇头道：“没听说过。”\n",
      "23 0.7981346845626831 这个高宗皇帝，原本无耻得很，这种事情自然做得出来。”\n",
      "3844 0.7968611121177673 周伯通道：“是啊！兄弟，你年纪虽小，武林中的事情倒知道得不少。\n",
      "8400 0.7968262434005737 第四十回　华山论剑(1)\n",
      "2534 0.7966846823692322 那边完颜康见了师父，暗暗吃惊，高声叫道：“是自家人，各位别动手！”\n",
      "2881 0.7965524792671204 你爹爹厉害不厉害？我老叫化的本事也不小罢？”\n",
      "5872 0.7958546876907349 朱聪摇头不答。\n",
      "3460 0.7951271533966064 黄药师道：“好，好！”伸手在她背上轻轻拍了三掌。\n",
      "6097 0.794702410697937 鲁有脚朗声道：“众位兄弟，这位姑娘适才出手，当真是老帮主的功夫。”\n",
      "3677 0.7928398251533508 走到临近，都颇出于意外，只见杨康牵着一匹马，站在路旁和欧阳克说话。\n",
      "7106 0.792823076248169 柯镇恶道：”怎么？”\n",
      "1049 0.7912881374359131 朱聪眼中含了泪水。向郭靖道：“你到这里，是想来跟我们学本事的了？”\n",
      "3214 0.7906702756881714 陆冠英大喜，恭恭敬敬的请那老者先行。\n",
      "5734 0.7902183532714844 黄药师回过头来，冷笑道：“老毒物好毒，果然名不虚传！”\n"
     ]
    }
   ],
   "source": [
    "sims = model_dm.docvecs.most_similar([inferred_dm], topn=20)\n",
    "\n",
    "for idx, sim in sims:\n",
    "    print(idx, sim, docs[idx])"
   ]
  },
  {
   "cell_type": "markdown",
   "metadata": {},
   "source": [
    "#### DBOW"
   ]
  },
  {
   "cell_type": "code",
   "execution_count": 12,
   "metadata": {},
   "outputs": [
    {
     "name": "stderr",
     "output_type": "stream",
     "text": [
      "2018-03-30 21:04:15,237 : INFO : collecting all words and their counts\n",
      "2018-03-30 21:04:15,239 : WARNING : Each 'words' should be a list of words (usually unicode strings). First 'words' here is instead plain <class 'str'>.\n",
      "2018-03-30 21:04:15,240 : INFO : PROGRESS: at example #0, processed 0 words (0/s), 0 word types, 0 tags\n",
      "2018-03-30 21:04:15,482 : INFO : collected 4056 word types and 8611 unique tags from a corpus of 8611 examples and 892286 words\n",
      "2018-03-30 21:04:15,483 : INFO : Loading a fresh vocabulary\n",
      "2018-03-30 21:04:15,491 : INFO : min_count=2 retains 3554 unique words (87% of original 4056, drops 502)\n",
      "2018-03-30 21:04:15,492 : INFO : min_count=2 leaves 891784 word corpus (99% of original 892286, drops 502)\n",
      "2018-03-30 21:04:15,503 : INFO : deleting the raw counts dictionary of 4056 items\n",
      "2018-03-30 21:04:15,504 : INFO : sample=0.001 downsamples 63 most-common words\n",
      "2018-03-30 21:04:15,505 : INFO : downsampling leaves estimated 679542 word corpus (76.2% of prior 891784)\n",
      "2018-03-30 21:04:15,516 : INFO : estimated required memory for 3554 words and 200 dimensions: 14352200 bytes\n",
      "2018-03-30 21:04:15,517 : INFO : resetting layer weights\n",
      "2018-03-30 21:04:15,751 : INFO : training model with 4 workers on 3554 vocabulary and 200 features, using sg=1 hs=0 sample=0.001 negative=5 window=5\n",
      "2018-03-30 21:04:16,452 : INFO : worker thread finished; awaiting finish of 3 more threads\n",
      "2018-03-30 21:04:16,459 : INFO : worker thread finished; awaiting finish of 2 more threads\n",
      "2018-03-30 21:04:16,469 : INFO : worker thread finished; awaiting finish of 1 more threads\n",
      "2018-03-30 21:04:16,472 : INFO : worker thread finished; awaiting finish of 0 more threads\n",
      "2018-03-30 21:04:16,472 : INFO : EPOCH - 1 : training on 892286 raw words (688244 effective words) took 0.7s, 961754 effective words/s\n",
      "2018-03-30 21:04:17,097 : INFO : worker thread finished; awaiting finish of 3 more threads\n",
      "2018-03-30 21:04:17,103 : INFO : worker thread finished; awaiting finish of 2 more threads\n",
      "2018-03-30 21:04:17,104 : INFO : worker thread finished; awaiting finish of 1 more threads\n",
      "2018-03-30 21:04:17,108 : INFO : worker thread finished; awaiting finish of 0 more threads\n",
      "2018-03-30 21:04:17,109 : INFO : EPOCH - 2 : training on 892286 raw words (688142 effective words) took 0.6s, 1087299 effective words/s\n",
      "2018-03-30 21:04:17,704 : INFO : worker thread finished; awaiting finish of 3 more threads\n",
      "2018-03-30 21:04:17,707 : INFO : worker thread finished; awaiting finish of 2 more threads\n",
      "2018-03-30 21:04:17,714 : INFO : worker thread finished; awaiting finish of 1 more threads\n",
      "2018-03-30 21:04:17,718 : INFO : worker thread finished; awaiting finish of 0 more threads\n",
      "2018-03-30 21:04:17,720 : INFO : EPOCH - 3 : training on 892286 raw words (688020 effective words) took 0.6s, 1132777 effective words/s\n",
      "2018-03-30 21:04:18,326 : INFO : worker thread finished; awaiting finish of 3 more threads\n",
      "2018-03-30 21:04:18,329 : INFO : worker thread finished; awaiting finish of 2 more threads\n",
      "2018-03-30 21:04:18,330 : INFO : worker thread finished; awaiting finish of 1 more threads\n",
      "2018-03-30 21:04:18,331 : INFO : worker thread finished; awaiting finish of 0 more threads\n",
      "2018-03-30 21:04:18,331 : INFO : EPOCH - 4 : training on 892286 raw words (688375 effective words) took 0.6s, 1136412 effective words/s\n",
      "2018-03-30 21:04:19,083 : INFO : worker thread finished; awaiting finish of 3 more threads\n",
      "2018-03-30 21:04:19,089 : INFO : worker thread finished; awaiting finish of 2 more threads\n",
      "2018-03-30 21:04:19,093 : INFO : worker thread finished; awaiting finish of 1 more threads\n",
      "2018-03-30 21:04:19,094 : INFO : worker thread finished; awaiting finish of 0 more threads\n",
      "2018-03-30 21:04:19,095 : INFO : EPOCH - 5 : training on 892286 raw words (688069 effective words) took 0.8s, 911732 effective words/s\n",
      "2018-03-30 21:04:19,870 : INFO : worker thread finished; awaiting finish of 3 more threads\n",
      "2018-03-30 21:04:19,876 : INFO : worker thread finished; awaiting finish of 2 more threads\n",
      "2018-03-30 21:04:19,879 : INFO : worker thread finished; awaiting finish of 1 more threads\n",
      "2018-03-30 21:04:19,882 : INFO : worker thread finished; awaiting finish of 0 more threads\n",
      "2018-03-30 21:04:19,883 : INFO : EPOCH - 6 : training on 892286 raw words (688445 effective words) took 0.8s, 879813 effective words/s\n",
      "2018-03-30 21:04:20,561 : INFO : worker thread finished; awaiting finish of 3 more threads\n",
      "2018-03-30 21:04:20,564 : INFO : worker thread finished; awaiting finish of 2 more threads\n",
      "2018-03-30 21:04:20,572 : INFO : worker thread finished; awaiting finish of 1 more threads\n",
      "2018-03-30 21:04:20,573 : INFO : worker thread finished; awaiting finish of 0 more threads\n",
      "2018-03-30 21:04:20,574 : INFO : EPOCH - 7 : training on 892286 raw words (688328 effective words) took 0.7s, 1003851 effective words/s\n",
      "2018-03-30 21:04:21,154 : INFO : worker thread finished; awaiting finish of 3 more threads\n",
      "2018-03-30 21:04:21,155 : INFO : worker thread finished; awaiting finish of 2 more threads\n",
      "2018-03-30 21:04:21,157 : INFO : worker thread finished; awaiting finish of 1 more threads\n",
      "2018-03-30 21:04:21,164 : INFO : worker thread finished; awaiting finish of 0 more threads\n",
      "2018-03-30 21:04:21,165 : INFO : EPOCH - 8 : training on 892286 raw words (687763 effective words) took 0.6s, 1173007 effective words/s\n",
      "2018-03-30 21:04:21,806 : INFO : worker thread finished; awaiting finish of 3 more threads\n",
      "2018-03-30 21:04:21,814 : INFO : worker thread finished; awaiting finish of 2 more threads\n",
      "2018-03-30 21:04:21,829 : INFO : worker thread finished; awaiting finish of 1 more threads\n",
      "2018-03-30 21:04:21,831 : INFO : worker thread finished; awaiting finish of 0 more threads\n",
      "2018-03-30 21:04:21,832 : INFO : EPOCH - 9 : training on 892286 raw words (688409 effective words) took 0.7s, 1038984 effective words/s\n",
      "2018-03-30 21:04:22,560 : INFO : worker thread finished; awaiting finish of 3 more threads\n",
      "2018-03-30 21:04:22,568 : INFO : worker thread finished; awaiting finish of 2 more threads\n",
      "2018-03-30 21:04:22,571 : INFO : worker thread finished; awaiting finish of 1 more threads\n",
      "2018-03-30 21:04:22,578 : INFO : worker thread finished; awaiting finish of 0 more threads\n",
      "2018-03-30 21:04:22,579 : INFO : EPOCH - 10 : training on 892286 raw words (687933 effective words) took 0.7s, 927914 effective words/s\n",
      "2018-03-30 21:04:22,579 : INFO : training on a 8922860 raw words (6881728 effective words) took 6.8s, 1007987 effective words/s\n"
     ]
    }
   ],
   "source": [
    "model_dbow = Doc2Vec(dm=0, vector_size=200, window=5, negative=5, hs=0, min_count=2, workers=4)\n",
    "model_dbow.build_vocab(all_docs)\n",
    "model_dbow.train(all_docs, total_examples=model_dbow.corpus_count, epochs=10)"
   ]
  },
  {
   "cell_type": "code",
   "execution_count": 13,
   "metadata": {},
   "outputs": [],
   "source": [
    "# model_dbow.save('data/model_dbow') # 保存\n",
    "# model_dbow = Doc2Vec.load('data/model_dbow') # 加载"
   ]
  },
  {
   "cell_type": "code",
   "execution_count": 14,
   "metadata": {},
   "outputs": [
    {
     "data": {
      "text/plain": [
       "array([ 0.01419171, -0.02823302, -0.02088062, -0.02543328,  0.02586145,\n",
       "        0.01294213, -0.02544077, -0.0173758 , -0.01061801,  0.03531633,\n",
       "       -0.03065605, -0.02583065,  0.00979997, -0.01050466, -0.0115023 ,\n",
       "       -0.09630001, -0.02908253,  0.01855621, -0.02998168,  0.04431284,\n",
       "       -0.01148964, -0.01984739,  0.0098443 ,  0.0380469 , -0.00291281,\n",
       "        0.05217041,  0.02064477,  0.02667706, -0.00872314, -0.01602804,\n",
       "       -0.03934961, -0.00438016,  0.01876998, -0.00838336,  0.06751538,\n",
       "       -0.05545018, -0.06576753, -0.01606401,  0.05020346,  0.02558997,\n",
       "       -0.03541899, -0.02738536, -0.01751384, -0.01438644, -0.02912616,\n",
       "       -0.02538054,  0.01565146,  0.00931341,  0.04538115, -0.01623158,\n",
       "       -0.03482188, -0.02922407,  0.01526726, -0.02431986, -0.01920362,\n",
       "        0.01917152,  0.04961848, -0.00123418,  0.00121014, -0.04641749,\n",
       "        0.04080858,  0.06405365,  0.02754294,  0.03435424, -0.02591299,\n",
       "        0.00639994,  0.00209151, -0.00105125, -0.04912994,  0.03310872,\n",
       "       -0.01496989,  0.02917283, -0.01542687, -0.02648955,  0.0232677 ,\n",
       "        0.02100847, -0.00711048,  0.00287277, -0.03178497, -0.03730755,\n",
       "       -0.00786734, -0.00811234,  0.0394691 , -0.01587768,  0.02062446,\n",
       "        0.03181501, -0.0021939 ,  0.0436382 , -0.03133047, -0.03955077,\n",
       "       -0.0396033 , -0.00261442, -0.01001689, -0.05168434, -0.00733511,\n",
       "       -0.03702698,  0.03200354,  0.02309997,  0.01717536,  0.02763599,\n",
       "        0.01051579,  0.03653027, -0.03192173,  0.04327277,  0.00509786,\n",
       "       -0.00610665,  0.04412932,  0.00479538, -0.01052574,  0.00567665,\n",
       "       -0.03258965,  0.02827953, -0.06250522, -0.01713751,  0.0061275 ,\n",
       "        0.00407067,  0.00702051, -0.0279377 , -0.00682516,  0.04035652,\n",
       "        0.0425872 , -0.00829391,  0.02284594,  0.0012418 ,  0.00468634,\n",
       "       -0.01356006,  0.00013377,  0.0183474 ,  0.02484297,  0.00706858,\n",
       "        0.001443  , -0.03024157,  0.01072515, -0.04070225,  0.05988478,\n",
       "       -0.00398057, -0.05218553,  0.01068925,  0.02141634,  0.00163555,\n",
       "        0.00121156,  0.02744316, -0.05651826, -0.00484876, -0.00122854,\n",
       "       -0.06265625,  0.02194077,  0.00414915,  0.02422816, -0.00277025,\n",
       "        0.00388834,  0.05541463, -0.05959327, -0.02112234, -0.02580259,\n",
       "        0.01446088,  0.03365327, -0.00870181, -0.00100266,  0.03443983,\n",
       "        0.01688259, -0.02054433, -0.02806571,  0.00450231,  0.00016976,\n",
       "        0.00482721, -0.00148331, -0.00819467,  0.07904924, -0.00951094,\n",
       "       -0.03090453, -0.06988098,  0.07040566,  0.02395961, -0.02637294,\n",
       "        0.03922621,  0.05485079, -0.04118454,  0.00720829, -0.01141671,\n",
       "        0.01968525,  0.03887339,  0.03427962,  0.00932986, -0.00772151,\n",
       "        0.03230053,  0.00378462,  0.00406527,  0.02113449, -0.02670519,\n",
       "       -0.01177466,  0.02179174, -0.00792764,  0.04355603,  0.00251008,\n",
       "       -0.00454305, -0.0478678 , -0.02422281,  0.02254437, -0.02684432],\n",
       "      dtype=float32)"
      ]
     },
     "execution_count": 14,
     "metadata": {},
     "output_type": "execute_result"
    }
   ],
   "source": [
    "inferred_dbow = model_dbow.infer_vector(test_list)\n",
    "inferred_dbow"
   ]
  },
  {
   "cell_type": "code",
   "execution_count": 15,
   "metadata": {},
   "outputs": [
    {
     "name": "stderr",
     "output_type": "stream",
     "text": [
      "2018-03-30 21:04:22,608 : INFO : precomputing L2-norms of doc weight vectors\n"
     ]
    },
    {
     "name": "stdout",
     "output_type": "stream",
     "text": [
      "5177 0.9147704839706421 宫内带刀护卫巡逻严紧，但周、郭、黄轻身功夫何等了得，岂能让护卫发见？洪七公识得御厨房的所在，低声指路，片刻间来到了六部山后的御厨。\n",
      "3014 0.9035613536834717 这词黄蓉曾由父亲教过，知道是岳飞所作的《小重山》，又见下款写着“五湖废人病中涂鸦”八字，想来这“五湖废人”必是那庄主的别号了。但见书法与图画中的笔致波磔森森，如剑如戟，岂但力透纸背，直欲破纸飞出一般。\n",
      "4405 0.9006547331809998 他武功既强，眼力又高，搜罗的奇珍异宝不计其数，这时都供在亡妻的圹室之中。黄蓉见那些明珠美玉、翡翠玛瑙之属在灯光下发出淡淡光芒，心想：\n",
      "1240 0.8996094465255737 那道人道：“睡觉之前，必须脑中空明澄澈，没一丝思虑。然后敛身侧卧，鼻息绵绵，魂不内荡，神不外游。”当下传授了呼吸运气之法、静坐敛虑之术。\n",
      "2428 0.8995554447174072 郭靖道：“眼不视而魂在肝、耳不闻而精在肾、舌不吟而神在心、鼻不香而魄在肺、四肢不动而意在脾，是为五气朝元。”\n",
      "6297 0.8975008726119995 黄蓉笑道：“不但九宫，即使四四图，五五图，以至百子图，亦不足为奇。\n",
      "4403 0.8972916007041931 扩室中壁间案头尽是古物珍玩、名画法书，没一件不是价值连城的精品。\n",
      "6292 0.8971295356750488 黄蓉自幼受父亲教导，颇精历数之术，见到地下符字，知道尽是些术数中的难题，那是算经中的“天元之术”，虽然甚是繁复，但只要一明其法，也无甚难处（按：即今日代数中多元多次方程式，我国古代算经中早记其法，天、地、人、物四字即西方代数中x、y、z、w四未知数）。黄蓉从腰间抽出竹棒，倚在郭靖身上，随想随在沙上书写，片刻之间，将沙上所列的七八道算题尽数解开。\n",
      "6230 0.892383337020874 郭靖与黄蓉在归云庄、临安府等地所遇到的是裘千丈，而在君山、铁掌山所遇的却是裘千仞。只因二人容貌打扮一般无异，黄蓉一个托大，竟为裘千仞铁掌震伤。\n",
      "4461 0.8902896642684937 第二十回　窜改经文(1)\n",
      "4071 0.886900007724762 郭靖在竹林中听着二人吹奏，思索这玉箫铁筝与武功有甚么干系，何以这两般声音有恁大魔力，引得人心中把持不定？当下龊守心神，不为乐声所动，然后细辨箫声筝韵，听了片刻，只觉一柔一刚，相互激荡，或揉进以取势，或缓退以待敌，正与高手比武一般无异，再想多时，终于领悟：“是了，黄岛主和欧阳锋正以上乘内功互相比拚。”想明白了此节，当下闭目听斗。\n",
      "6467 0.8865983486175537 注：散曲发源于北宋神宗熙宁、元丰年间，宋金时即已流行民间。惟本回樵子及黄蓉所唱“山坡羊”为元人散曲，系属晚出。\n",
      "5744 0.885908305644989 第二十六回　新盟旧约(1)\n",
      "5388 0.8857599496841431 第二十四回　密室疗伤(2)\n",
      "2850 0.8857490420341492 黄蓉大喜，有心要显显本事，所煮的菜肴固然绝无重复，连面食米饭也是极逞智巧，没一餐相同，锅贴、烧卖、蒸饺、水饺、炒饭、汤饭、年糕、花卷、米粉、豆丝，花样竟是变幻无穷。洪七公也打叠精神，指点郭黄两人临敌应变、防身保命之道。只是“降龙十八掌”那余下的三招却也没再传授。\n",
      "694 0.8857334852218628 博尔朮、赤老温两人，连同木华黎、博尔忽，并为蒙古的开国四大功臣。\n",
      "3573 0.8847852945327759 隐在墙头屋角的群丐知道已被他察觉，但未得黎生号令，均是默不作声。\n",
      "2699 0.884689450263977 第十二回　亢龙有悔(1)\n",
      "7755 0.8842953443527222 任你是战无不胜、无所畏惧的大英雄，待得精力渐衰，想到这个“死”\n",
      "5466 0.8840484619140625 这三句劝慰之言，比之鼻上三拳，更令梁子翁感到无地自容，愤激之下，“哇”\n"
     ]
    }
   ],
   "source": [
    "sims = model_dbow.docvecs.most_similar([inferred_dbow], topn=20)\n",
    "\n",
    "for idx, sim in sims:\n",
    "    print(idx, sim, docs[idx])"
   ]
  }
 ],
 "metadata": {
  "kernelspec": {
   "display_name": "Python 3",
   "language": "python",
   "name": "python3"
  },
  "language_info": {
   "codemirror_mode": {
    "name": "ipython",
    "version": 3
   },
   "file_extension": ".py",
   "mimetype": "text/x-python",
   "name": "python",
   "nbconvert_exporter": "python",
   "pygments_lexer": "ipython3",
   "version": "3.6.4"
  }
 },
 "nbformat": 4,
 "nbformat_minor": 2
}
